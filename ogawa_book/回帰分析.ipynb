{
 "cells": [
  {
   "cell_type": "code",
   "execution_count": 14,
   "metadata": {},
   "outputs": [],
   "source": [
    "import random\n",
    "import numpy as np\n",
    "from numpy.random import *\n",
    "import matplotlib.pyplot as plt\n",
    "import scipy.stats\n",
    "from scipy.special import expit\n",
    "import pandas as pd\n",
    "\n",
    "\n",
    "np.random.seed(1234)\n"
   ]
  },
  {
   "cell_type": "code",
   "execution_count": 15,
   "metadata": {},
   "outputs": [],
   "source": [
    "import random\n",
    "\n",
    "random.seed(1234)"
   ]
  },
  {
   "cell_type": "code",
   "execution_count": 16,
   "metadata": {},
   "outputs": [],
   "source": [
    "#データ数\n",
    "num_data = 200\n",
    "\n",
    "#年齢\n",
    "x_1 = randint(15, 76, num_data)\n",
    "\n",
    "#性別(0 を女性、　１を男性)\n",
    "x_2 = randint(0, 2, num_data)"
   ]
  },
  {
   "cell_type": "code",
   "execution_count": 17,
   "metadata": {},
   "outputs": [],
   "source": [
    "# ノイズの生成\n",
    "e_z = randn(num_data)\n",
    "\n",
    "#シグモイド関数に入れる部分\n",
    "z_base = x_1 + (1 - x_2)*10 - 40 + 5*e_z\n",
    "\n",
    "#シグモイド関数を計算\n",
    "z_prob = expit(0.1*z_base)\n",
    "\n",
    "# テレビcmを見たかどうかの変数\n",
    "Z = np.array([])\n",
    "\n",
    "\n",
    "for i in range(num_data):\n",
    "    Z_i = np.random.choice(2, size=1, p=[1 - z_prob[i], z_prob[i]])[0]\n",
    "    Z = np.append(Z, Z_i)"
   ]
  },
  {
   "cell_type": "code",
   "execution_count": 20,
   "metadata": {},
   "outputs": [],
   "source": [
    "#ノイズの生成\n",
    "e_y = randn(num_data)\n",
    "\n",
    "Y =  -x_1 + 30*x_2 + 10*Z + 80 + 10*e_y"
   ]
  },
  {
   "cell_type": "code",
   "execution_count": 21,
   "metadata": {},
   "outputs": [
    {
     "data": {
      "text/html": [
       "<div>\n",
       "<style scoped>\n",
       "    .dataframe tbody tr th:only-of-type {\n",
       "        vertical-align: middle;\n",
       "    }\n",
       "\n",
       "    .dataframe tbody tr th {\n",
       "        vertical-align: top;\n",
       "    }\n",
       "\n",
       "    .dataframe thead th {\n",
       "        text-align: right;\n",
       "    }\n",
       "</style>\n",
       "<table border=\"1\" class=\"dataframe\">\n",
       "  <thead>\n",
       "    <tr style=\"text-align: right;\">\n",
       "      <th></th>\n",
       "      <th>年齢</th>\n",
       "      <th>性別</th>\n",
       "      <th>CMを見た</th>\n",
       "      <th>購入量</th>\n",
       "    </tr>\n",
       "  </thead>\n",
       "  <tbody>\n",
       "    <tr>\n",
       "      <th>0</th>\n",
       "      <td>62</td>\n",
       "      <td>0</td>\n",
       "      <td>1.0</td>\n",
       "      <td>30.586705</td>\n",
       "    </tr>\n",
       "    <tr>\n",
       "      <th>1</th>\n",
       "      <td>34</td>\n",
       "      <td>0</td>\n",
       "      <td>0.0</td>\n",
       "      <td>60.877433</td>\n",
       "    </tr>\n",
       "    <tr>\n",
       "      <th>2</th>\n",
       "      <td>53</td>\n",
       "      <td>1</td>\n",
       "      <td>1.0</td>\n",
       "      <td>81.543435</td>\n",
       "    </tr>\n",
       "    <tr>\n",
       "      <th>3</th>\n",
       "      <td>68</td>\n",
       "      <td>1</td>\n",
       "      <td>1.0</td>\n",
       "      <td>59.043083</td>\n",
       "    </tr>\n",
       "    <tr>\n",
       "      <th>4</th>\n",
       "      <td>27</td>\n",
       "      <td>1</td>\n",
       "      <td>0.0</td>\n",
       "      <td>97.663514</td>\n",
       "    </tr>\n",
       "  </tbody>\n",
       "</table>\n",
       "</div>"
      ],
      "text/plain": [
       "   年齢  性別  CMを見た        購入量\n",
       "0  62   0    1.0  30.586705\n",
       "1  34   0    0.0  60.877433\n",
       "2  53   1    1.0  81.543435\n",
       "3  68   1    1.0  59.043083\n",
       "4  27   1    0.0  97.663514"
      ]
     },
     "execution_count": 21,
     "metadata": {},
     "output_type": "execute_result"
    }
   ],
   "source": [
    "df = pd.DataFrame({\n",
    "    \"年齢\": x_1,\n",
    "    \"性別\":x_2,\n",
    "    \"CMを見た\":Z,\n",
    "    \"購入量\":Y\n",
    "})\n",
    "\n",
    "df.head()"
   ]
  },
  {
   "cell_type": "code",
   "execution_count": 25,
   "metadata": {},
   "outputs": [
    {
     "name": "stdout",
     "output_type": "stream",
     "text": [
      "年齢       55.836066\n",
      "性別        0.483607\n",
      "CMを見た     1.000000\n",
      "購入量      48.752893\n",
      "dtype: float64\n",
      "---------------\n",
      "年齢       32.141026\n",
      "性別        0.692308\n",
      "CMを見た     0.000000\n",
      "購入量      67.300857\n",
      "dtype: float64\n"
     ]
    }
   ],
   "source": [
    "print(df[df[\"CMを見た\"] == 1.0].mean())\n",
    "print(\"-\"*15)\n",
    "print(df[df[\"CMを見た\"] == 0.0].mean())"
   ]
  },
  {
   "cell_type": "code",
   "execution_count": 26,
   "metadata": {},
   "outputs": [
    {
     "name": "stdout",
     "output_type": "stream",
     "text": [
      "係数　： [-1.10773564 30.20665594 14.00403939]\n"
     ]
    }
   ],
   "source": [
    "#因果推論を回帰分析で求める\n",
    "\n",
    "from sklearn.linear_model import LinearRegression\n",
    "\n",
    "#説明変数\n",
    "X = df[[\"年齢\", \"性別\", \"CMを見た\"]]\n",
    "\n",
    "\n",
    "#被説明変数\n",
    "y = df[\"購入量\"]\n",
    "\n",
    "reg = LinearRegression().fit(X, y)\n",
    "\n",
    "\n",
    "#回帰した結果の係数を出力\n",
    "print(\"係数　：\", reg.coef_)"
   ]
  },
  {
   "cell_type": "code",
   "execution_count": 27,
   "metadata": {},
   "outputs": [
    {
     "name": "stdout",
     "output_type": "stream",
     "text": [
      "係数beta :  [[ 0.10562765 -1.38263933]]\n",
      "係数alpha :  [-3.37146523]\n"
     ]
    }
   ],
   "source": [
    "# 傾向スコアを求める\n",
    "from sklearn.linear_model import LogisticRegression\n",
    "\n",
    "\n",
    "#説明変数\n",
    "X = df[[\"年齢\", \"性別\"]]\n",
    "\n",
    "#被説明変数\n",
    "Z = df[\"CMを見た\"]\n",
    "\n",
    "\n",
    "reg = LogisticRegression().fit(X, Z)\n",
    "\n",
    "print(\"係数beta : \", reg.coef_)\n",
    "print(\"係数alpha : \", reg.intercept_ )"
   ]
  },
  {
   "cell_type": "code",
   "execution_count": 28,
   "metadata": {},
   "outputs": [
    {
     "name": "stdout",
     "output_type": "stream",
     "text": [
      "[[0.04002323 0.95997677]\n",
      " [0.44525168 0.55474832]\n",
      " [0.30065918 0.69934082]\n",
      " [0.08101946 0.91898054]\n",
      " [0.87013558 0.12986442]]\n",
      "---------------\n",
      "0    1.0\n",
      "1    0.0\n",
      "2    1.0\n",
      "3    1.0\n",
      "4    0.0\n",
      "Name: CMを見た, dtype: float64\n"
     ]
    }
   ],
   "source": [
    "Z_pre = reg.predict_proba(X)\n",
    "print(Z_pre[0:5])\n",
    "print(\"-\"*15)\n",
    "print(Z[0:5])"
   ]
  },
  {
   "cell_type": "code",
   "execution_count": 29,
   "metadata": {},
   "outputs": [
    {
     "name": "stdout",
     "output_type": "stream",
     "text": [
      "推定したATE 14.511429725609634\n"
     ]
    }
   ],
   "source": [
    "ATE_i = Y/Z_pre[:, 1]*Z - Y/Z_pre[:,0]*(1-Z)\n",
    "ATE = 1/len(Y)*ATE_i.sum()\n",
    "print(\"推定したATE\", ATE)"
   ]
  },
  {
   "cell_type": "code",
   "execution_count": null,
   "metadata": {},
   "outputs": [],
   "source": []
  }
 ],
 "metadata": {
  "kernelspec": {
   "display_name": "Python 3",
   "language": "python",
   "name": "python3"
  },
  "language_info": {
   "codemirror_mode": {
    "name": "ipython",
    "version": 3
   },
   "file_extension": ".py",
   "mimetype": "text/x-python",
   "name": "python",
   "nbconvert_exporter": "python",
   "pygments_lexer": "ipython3",
   "version": "3.7.7"
  }
 },
 "nbformat": 4,
 "nbformat_minor": 4
}
