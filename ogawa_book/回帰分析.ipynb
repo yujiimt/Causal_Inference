{
 "cells": [
  {
   "cell_type": "code",
   "execution_count": 12,
   "metadata": {},
   "outputs": [],
   "source": [
    "import random\n",
    "import numpy as np\n",
    "from numpy.random import *\n",
    "import matplotlib.pyplot as plt\n",
    "import scipy.stats\n",
    "from scipy.special import expit\n",
    "import pandas as pd\n",
    "from sklearn.linear_model import LogisticRegression, LinearRegression\n",
    "\n",
    "\n",
    "np.random.seed(1234)"
   ]
  },
  {
   "cell_type": "code",
   "execution_count": 2,
   "metadata": {},
   "outputs": [],
   "source": [
    "import random\n",
    "\n",
    "random.seed(1234)"
   ]
  },
  {
   "cell_type": "code",
   "execution_count": 3,
   "metadata": {},
   "outputs": [],
   "source": [
    "#データ数\n",
    "num_data = 200\n",
    "\n",
    "#年齢\n",
    "x_1 = randint(15, 76, num_data)\n",
    "\n",
    "#性別(0 を女性、　１を男性)\n",
    "x_2 = randint(0, 2, num_data)\n",
    "\n",
    "# ノイズの生成\n",
    "e_z = randn(num_data)\n",
    "\n",
    "#シグモイド関数に入れる部分\n",
    "z_base = x_1 + (1 - x_2)*10 - 40 + 5*e_z\n",
    "\n",
    "#シグモイド関数を計算\n",
    "z_prob = expit(0.1*z_base)\n",
    "\n",
    "# テレビcmを見たかどうかの変数\n",
    "Z = np.array([])\n",
    "\n",
    "\n",
    "for i in range(num_data):\n",
    "    Z_i = np.random.choice(2, size=1, p=[1 - z_prob[i], z_prob[i]])[0]\n",
    "    Z = np.append(Z, Z_i)\n",
    "    \n",
    "#ノイズの生成\n",
    "e_y = randn(num_data)\n",
    "\n",
    "Y =  -x_1 + 30*x_2 + 10*Z + 80 + 10*e_y"
   ]
  },
  {
   "cell_type": "code",
   "execution_count": 4,
   "metadata": {},
   "outputs": [],
   "source": [
    "df = pd.DataFrame({'年齢': x_1,\n",
    "                   '性別': x_2,\n",
    "                   'CMを見た': Z,\n",
    "                   '購入量': Y,\n",
    "                   })"
   ]
  },
  {
   "cell_type": "code",
   "execution_count": 5,
   "metadata": {},
   "outputs": [
    {
     "data": {
      "text/html": [
       "<div>\n",
       "<style scoped>\n",
       "    .dataframe tbody tr th:only-of-type {\n",
       "        vertical-align: middle;\n",
       "    }\n",
       "\n",
       "    .dataframe tbody tr th {\n",
       "        vertical-align: top;\n",
       "    }\n",
       "\n",
       "    .dataframe thead th {\n",
       "        text-align: right;\n",
       "    }\n",
       "</style>\n",
       "<table border=\"1\" class=\"dataframe\">\n",
       "  <thead>\n",
       "    <tr style=\"text-align: right;\">\n",
       "      <th></th>\n",
       "      <th>年齢</th>\n",
       "      <th>性別</th>\n",
       "      <th>CMを見た</th>\n",
       "      <th>購入量</th>\n",
       "    </tr>\n",
       "  </thead>\n",
       "  <tbody>\n",
       "    <tr>\n",
       "      <th>0</th>\n",
       "      <td>62</td>\n",
       "      <td>0</td>\n",
       "      <td>1.0</td>\n",
       "      <td>24.464285</td>\n",
       "    </tr>\n",
       "    <tr>\n",
       "      <th>1</th>\n",
       "      <td>34</td>\n",
       "      <td>0</td>\n",
       "      <td>0.0</td>\n",
       "      <td>45.693411</td>\n",
       "    </tr>\n",
       "    <tr>\n",
       "      <th>2</th>\n",
       "      <td>53</td>\n",
       "      <td>1</td>\n",
       "      <td>1.0</td>\n",
       "      <td>64.998281</td>\n",
       "    </tr>\n",
       "    <tr>\n",
       "      <th>3</th>\n",
       "      <td>68</td>\n",
       "      <td>1</td>\n",
       "      <td>1.0</td>\n",
       "      <td>47.186898</td>\n",
       "    </tr>\n",
       "    <tr>\n",
       "      <th>4</th>\n",
       "      <td>27</td>\n",
       "      <td>1</td>\n",
       "      <td>0.0</td>\n",
       "      <td>100.114260</td>\n",
       "    </tr>\n",
       "  </tbody>\n",
       "</table>\n",
       "</div>"
      ],
      "text/plain": [
       "   年齢  性別  CMを見た         購入量\n",
       "0  62   0    1.0   24.464285\n",
       "1  34   0    0.0   45.693411\n",
       "2  53   1    1.0   64.998281\n",
       "3  68   1    1.0   47.186898\n",
       "4  27   1    0.0  100.114260"
      ]
     },
     "execution_count": 5,
     "metadata": {},
     "output_type": "execute_result"
    }
   ],
   "source": [
    "df.head()"
   ]
  },
  {
   "cell_type": "code",
   "execution_count": 9,
   "metadata": {},
   "outputs": [
    {
     "name": "stdout",
     "output_type": "stream",
     "text": [
      "係数beta :  [[ 0.10562765 -1.38263933]]\n",
      "係数alpha :  [-3.37146523]\n"
     ]
    }
   ],
   "source": [
    "#説明変数\n",
    "X = df[[\"年齢\", \"性別\"]]\n",
    "\n",
    "#被説明変数（目的変数）\n",
    "Z = df[\"CMを見た\"]\n",
    "\n",
    "\n",
    "#回帰の実態\n",
    "reg = LogisticRegression().fit(X, Z)\n",
    "\n",
    "#回帰した結果の係数を出力\n",
    "print(\"係数beta : \", reg.coef_)\n",
    "print(\"係数alpha : \", reg.intercept_)"
   ]
  },
  {
   "cell_type": "code",
   "execution_count": 10,
   "metadata": {},
   "outputs": [
    {
     "name": "stdout",
     "output_type": "stream",
     "text": [
      "[[0.04002323 0.95997677]\n",
      " [0.44525168 0.55474832]\n",
      " [0.30065918 0.69934082]\n",
      " [0.08101946 0.91898054]\n",
      " [0.87013558 0.12986442]]\n"
     ]
    }
   ],
   "source": [
    "Z_pre = reg.predict_proba(X)\n",
    "print(Z_pre[0:5])"
   ]
  },
  {
   "cell_type": "code",
   "execution_count": 11,
   "metadata": {},
   "outputs": [
    {
     "name": "stdout",
     "output_type": "stream",
     "text": [
      "推定したATE :  8.847476810855458\n"
     ]
    }
   ],
   "source": [
    "ATE_i = Y / Z_pre[:, 1]*Z - Y / Z_pre[:, 0]*(1-Z)\n",
    "ATE = 1 / len(Y) * ATE_i.sum()\n",
    "print(\"推定したATE : \", ATE)"
   ]
  },
  {
   "cell_type": "code",
   "execution_count": 18,
   "metadata": {},
   "outputs": [],
   "source": [
    "#説明変数\n",
    "X = df[[\"年齢\", \"性別\", \"CMを見た\"]]\n",
    "\n",
    "#被説明変数\n",
    "y = df[\"購入量\"]\n",
    "\n",
    "\n",
    "#回帰の実態\n",
    "reg2 = LinearRegression().fit(X, y)\n",
    "\n",
    "#Z=0の場合\n",
    "X_0 = X.copy()\n",
    "X_0[\"CMを見た\"] = 0\n",
    "Y_0 = reg2.predict(X_0)\n",
    "\n",
    "\n",
    "#Z=1の場合\n",
    "X_1 = X.copy()\n",
    "X_1[\"CMを見た\"] = 1\n",
    "y_1 = reg2.predict(X_1)"
   ]
  },
  {
   "cell_type": "code",
   "execution_count": 19,
   "metadata": {},
   "outputs": [
    {
     "name": "stdout",
     "output_type": "stream",
     "text": [
      "[[0.04002323 0.95997677]\n",
      " [0.44525168 0.55474832]\n",
      " [0.30065918 0.69934082]\n",
      " [0.08101946 0.91898054]\n",
      " [0.87013558 0.12986442]]\n"
     ]
    }
   ],
   "source": [
    "#傾向スコアを求める\n",
    "\n",
    "#説明変数\n",
    "X = df[[\"年齢\", \"性別\"]]\n",
    "\n",
    "\n",
    "#目的変数\n",
    "Z = df[\"CMを見た\"]\n",
    "\n",
    "\n",
    "#回帰の実態\n",
    "reg = LogisticRegression().fit(X, Z)\n",
    "\n",
    "\n",
    "#傾向スコアを求める\n",
    "Z_pre = reg.predict_proba(X)\n",
    "print(Z_pre[0:5])"
   ]
  },
  {
   "cell_type": "code",
   "execution_count": 21,
   "metadata": {},
   "outputs": [
    {
     "name": "stdout",
     "output_type": "stream",
     "text": [
      "推定したATE: 9.75277505424846\n"
     ]
    }
   ],
   "source": [
    "ATE_1_i = Y/Z_pre[:, 1] * Z + (1 - Z  / Z_pre[:, 1])*Y_1\n",
    "ATE_0_i = Y / Z_pre[:, 0] * (1 - Z) + (1 - (1 - Z) / Z_pre[:, 0])*Y_0\n",
    "ATE =   1 / len(Y) * (ATE_1_i - ATE_0_i).sum()\n",
    "print(\"推定したATE:\", ATE)"
   ]
  },
  {
   "cell_type": "code",
   "execution_count": null,
   "metadata": {},
   "outputs": [],
   "source": []
  }
 ],
 "metadata": {
  "kernelspec": {
   "display_name": "Python 3",
   "language": "python",
   "name": "python3"
  },
  "language_info": {
   "codemirror_mode": {
    "name": "ipython",
    "version": 3
   },
   "file_extension": ".py",
   "mimetype": "text/x-python",
   "name": "python",
   "nbconvert_exporter": "python",
   "pygments_lexer": "ipython3",
   "version": "3.7.7"
  }
 },
 "nbformat": 4,
 "nbformat_minor": 4
}
